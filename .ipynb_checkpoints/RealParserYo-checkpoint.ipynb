{
 "cells": [
  {
   "cell_type": "code",
   "execution_count": 12,
   "metadata": {
    "collapsed": false
   },
   "outputs": [
    {
     "name": "stdout",
     "output_type": "stream",
     "text": [
      "\u001b[0m\u001b[01;34mCSV\u001b[0m/  \u001b[01;34mdebug\u001b[0m/  meta1.json  \u001b[01;34mtest\u001b[0m/  \u001b[01;34mtrain\u001b[0m/\r\n"
     ]
    }
   ],
   "source": [
    "\n",
    "Data_path = '../data_sets/PLAID/'\n",
    "%ls $Data_path\n"
   ]
  },
  {
   "cell_type": "code",
   "execution_count": 13,
   "metadata": {
    "collapsed": true
   },
   "outputs": [],
   "source": [
    "\n",
    "\n",
    "import os\n",
    "import numpy as np\n",
    "import matplotlib.pyplot as plt\n",
    "%matplotlib inline\n"
   ]
  },
  {
   "cell_type": "code",
   "execution_count": 14,
   "metadata": {
    "collapsed": true
   },
   "outputs": [],
   "source": [
    "\n",
    "\n",
    "csv_path = Data_path + 'CSV/'\n",
    "csv_files = os.listdir(csv_path)"
   ]
  },
  {
   "cell_type": "code",
   "execution_count": 15,
   "metadata": {
    "collapsed": true
   },
   "outputs": [],
   "source": [
    "\n",
    "import subprocess\n",
    "\n",
    "def read_data_given_id(path,ids,progress=False,last_offset=0):\n",
    "    '''read data given a list of ids and CSV paths'''\n",
    "    n = len(ids)\n",
    "    if n == 0:\n",
    "        return {}\n",
    "    else:\n",
    "        data = {}\n",
    "        for (i,ist_id) in enumerate(ids, start=1):\n",
    "            if progress:\n",
    "                print('%d/%d is being read...'%(i,n))\n",
    "            if last_offset==0:\n",
    "                data[ist_id] = np.genfromtxt(path+str(ist_id)+'.csv',\n",
    "                delimiter=',',names='current,voltage',dtype=(float,float))\n",
    "            else:\n",
    "                p=subprocess.Popen(['tail','-'+str(int(offset)),path+\n",
    "                    str(ist_id)+'.csv'],stdout=subprocess.PIPE)\n",
    "                data[ist_id] = np.genfromtxt(p.stdout,delimiter=',',\n",
    "                    names='current,voltage',dtype=(float,float))\n",
    "        return data\n",
    "\n"
   ]
  },
  {
   "cell_type": "code",
   "execution_count": 16,
   "metadata": {
    "collapsed": false
   },
   "outputs": [
    {
     "data": {
      "text/plain": [
       "{u'id': u'1',\n",
       " u'meta': {u'appliance': {u'brand': u'',\n",
       "   u'current': u'',\n",
       "   u'manufacture_year': u'',\n",
       "   u'model_number': u'',\n",
       "   u'notes': u'',\n",
       "   u'voltage': u'',\n",
       "   u'wattage': u''},\n",
       "  u'header': {u'collection_time': u'July, 2013',\n",
       "   u'notes': u'some instances are not well calibrated, meta data are not complete',\n",
       "   u'sampling_frequency': u'30000Hz'},\n",
       "  u'instances': {u'length': u'2.00s', u'status': u'off-on'},\n",
       "  u'location': u'house1',\n",
       "  u'type': u'Compact Fluorescent Lamp'}}"
      ]
     },
     "execution_count": 16,
     "metadata": {},
     "output_type": "execute_result"
    }
   ],
   "source": [
    "\n",
    "import json\n",
    "\n",
    "with open(Data_path + 'meta1.json') as data_file:    \n",
    "    meta1 = json.load(data_file)\n",
    "\n",
    "\n",
    "meta = [meta1]\n",
    "meta1[0]\n",
    "\n"
   ]
  },
  {
   "cell_type": "code",
   "execution_count": 17,
   "metadata": {
    "collapsed": false
   },
   "outputs": [
    {
     "data": {
      "text/plain": [
       "{u'appliance': {u'brand': u'',\n",
       "  u'current': u'',\n",
       "  u'manufacture_year': u'',\n",
       "  u'model_number': u'',\n",
       "  u'notes': u'',\n",
       "  u'voltage': u'',\n",
       "  u'wattage': u''},\n",
       " u'header': {u'collection_time': u'July, 2013',\n",
       "  u'notes': u'some instances are not well calibrated, meta data are not complete',\n",
       "  u'sampling_frequency': u'30000Hz'},\n",
       " u'instances': {u'length': u'2.00s', u'status': u'off-on'},\n",
       " u'location': u'house51',\n",
       " u'type': u'Laptop'}"
      ]
     },
     "execution_count": 17,
     "metadata": {},
     "output_type": "execute_result"
    }
   ],
   "source": [
    "\n",
    "\n",
    "def clean_meta(ist):\n",
    "    '''remove '' elements in Meta Data ''' \n",
    "    clean_ist = ist.copy()\n",
    "    for k,v in ist.items():\n",
    "#         if \n",
    "        if len(v) == 0:\n",
    "            del clean_ist[k]\n",
    "    return clean_ist\n",
    "                \n",
    "def parse_meta(meta):\n",
    "    '''parse meta data for easy access'''\n",
    "    M = {}\n",
    "    for m in meta:\n",
    "        for app in m:\n",
    "            M[int(app['id'])] = clean_meta(app['meta'])\n",
    "    return M\n",
    "     \n",
    "Meta = parse_meta(meta)    \n",
    "Meta[1000]"
   ]
  },
  {
   "cell_type": "code",
   "execution_count": 18,
   "metadata": {
    "collapsed": false
   },
   "outputs": [
    {
     "name": "stdout",
     "output_type": "stream",
     "text": [
      "[u'Air Conditioner', u'Compact Fluorescent Lamp', u'Fan', u'Fridge', u'Hairdryer', u'Heater', u'Incandescent Light Bulb', u'Laptop', u'Microwave', u'Vacuum', u'Washing Machine']\n",
      "number of total instances: 1074\n",
      "number of unique appliances: 1074\n",
      "number of unique appliance types: 11\n"
     ]
    }
   ],
   "source": [
    "\n",
    "\n",
    "# applinace types of all instances\n",
    "Types = [x['type'] for x in Meta.values()]\n",
    "# unique appliance types\n",
    "Unq_type = list(set(Types)) \n",
    "Unq_type.sort()\n",
    "print(Unq_type)\n",
    "\n",
    "# appliances\n",
    "Apps = [x['meta']['type'] for x in meta1]\n",
    "\n",
    "print('number of total instances: %d' % len(Types))\n",
    "print('number of unique appliances: %d' % len(Apps))\n",
    "print('number of unique appliance types: %d' % len(Unq_type))"
   ]
  },
  {
   "cell_type": "code",
   "execution_count": 19,
   "metadata": {
    "collapsed": false
   },
   "outputs": [
    {
     "name": "stdout",
     "output_type": "stream",
     "text": [
      "           Appliance Type\t# instances\n",
      "          Air Conditioner\t        66\n",
      " Compact Fluorescent Lamp\t       175\n",
      "                      Fan\t       115\n",
      "                   Fridge\t        38\n",
      "                Hairdryer\t       156\n",
      "                   Heater\t        35\n",
      "  Incandescent Light Bulb\t       114\n",
      "                   Laptop\t       172\n",
      "                Microwave\t       139\n",
      "                   Vacuum\t        38\n",
      "          Washing Machine\t        26\n"
     ]
    }
   ],
   "source": [
    "\n",
    "\n",
    "\n",
    "\n",
    "print('%25s\\t%8s' % ('Appliance Type','# instances'))\n",
    "for t in Unq_type:\n",
    "    t_ids = [i for i,j in enumerate(Types) if j == t]\n",
    "    print('%25s\\t%10d' % (t,len(t_ids)))\n",
    "\n"
   ]
  },
  {
   "cell_type": "code",
   "execution_count": null,
   "metadata": {
    "collapsed": false
   },
   "outputs": [],
   "source": [
    "# get 5 random instances from each type, will take ~ 1min to run\n",
    "import random\n",
    "\n",
    "count = 5\n",
    "num_type = len(Unq_type)\n",
    "fs = 30000\n",
    "\n",
    "ids_to_draw = {}\n",
    "t_data = {}\n",
    "for (ii,t) in enumerate(Unq_type):\n",
    "    t_ids = [i for i,j in enumerate(Types,start=1) if j == t]\n",
    "    ids_to_draw[t] = random.sample(t_ids, count)\n",
    "    t_data[t] = read_data_given_id(csv_path, ids_to_draw[t], False)\n"
   ]
  },
  {
   "cell_type": "code",
   "execution_count": null,
   "metadata": {
    "collapsed": true
   },
   "outputs": [],
   "source": [
    "\n",
    "\n",
    "# plot current\n",
    "fig = plt.figure(figsize=(10,20))\n",
    "ids_to_draw = {}\n",
    "for (ii,t) in enumerate(Unq_type):\n",
    "    jj = 0\n",
    "    for (k,v) in t_data[t].items():\n",
    "        plt.subplot(num_type,count,ii*count+jj+1)\n",
    "        plt.plot(np.linspace(1./fs,len(v['current'])/fs,num=len(v['current'])),v['current'])\n",
    "        if ii==num_type-1:\n",
    "            plt.xlabel('time(s)')\n",
    "        if jj==0: \n",
    "            plt.ylabel(t,fontsize=10)\n",
    "        plt.title('Id: '+str(k))\n",
    "        jj += 1\n",
    "fig.tight_layout()\n",
    "plt.show()    \n"
   ]
  }
 ],
 "metadata": {
  "kernelspec": {
   "display_name": "Python 2",
   "language": "python",
   "name": "python2"
  },
  "language_info": {
   "codemirror_mode": {
    "name": "ipython",
    "version": 2
   },
   "file_extension": ".py",
   "mimetype": "text/x-python",
   "name": "python",
   "nbconvert_exporter": "python",
   "pygments_lexer": "ipython2",
   "version": "2.7.6"
  }
 },
 "nbformat": 4,
 "nbformat_minor": 0
}
