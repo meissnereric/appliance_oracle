{
 "cells": [
  {
   "cell_type": "code",
   "execution_count": 9,
   "metadata": {
    "collapsed": true
   },
   "outputs": [],
   "source": [
    "import data\n",
    "import loads\n",
    "import knap\n",
    "%matplotlib inline\n",
    "def getTrueSets(appsD):\n",
    "    if appsD and len(appsD) > 0:\n",
    "        trueSets = []\n",
    "        numApps = len(appsD)\n",
    "        for time in xrange(len(appsD[0][0])):\n",
    "            trueSet = []\n",
    "            for appSet in appsD:\n",
    "                if appSet[0][time] != 0:\n",
    "                    trueSet.append(appSet[1])\n",
    "            trueSets.append(trueSet)\n",
    "        return trueSets\n",
    "\n",
    "def getAccuracy(guessSets, appsD, D):\n",
    "    trueSets = getTrueSets(appsD)\n",
    "    if trueSets:\n",
    "        total = float(sum([1 if guessSets[i][0][0] == tuple(trueSets[i]) else 0 for i in xrange(len(guessSets))])) \n",
    "        acc = total / float(len(guessSets))\n",
    "        return acc\n",
    "\n"
   ]
  },
  {
   "cell_type": "code",
   "execution_count": 10,
   "metadata": {
    "collapsed": true
   },
   "outputs": [],
   "source": [
    "def runTests():\n",
    "# D[i] is the required demand in watts\n",
    "# 0<i<n, where n = 24*60/5 (5 min intervals)\n",
    "    sampleTime = 5 #in minutes, connot be greater than one hour\n",
    "    numberOfHours = 24 #can be multi day\n",
    "    maxTime = numberOfHours*60/sampleTime             # number of sampleTime minute intervals#HOME LIST OF LOADS\n",
    "#loads.dryerMachine,\n",
    "#list of loads in the home\n",
    "    home = [loads.washingMachine, loads.dryerMachine, loads.lightsEarly, loads.lightsLate, loads.fridge, loads.kettle,\n",
    "            loads.coffeeMaker , loads.airConditioner, loads.ac2, loads.dryer2]\n",
    "#home = [loads.fridge, loads.lightsEarly, loads.lightsLate] #, loads.draw]\n",
    "    D, appsD = [d for d in data.calculateDemand(sampleTime, numberOfHours, home)]\n",
    "    N = 3\n",
    "    X = 100\n",
    "    accuracy = 0.0\n",
    "    sets1 = knap.findNSets(home, D, 1)\n",
    "    sets2 = knap.findNSets(home, D, N)\n",
    "    sets3 = knap.findSetsWithinX(home, D, 0.01)\n",
    "    sets4 = knap.findSetsWithinX(home, D, 0.05)\n",
    "    A1 = knap.getAppOnOffMap(sets1, D, home)\n",
    "    A2 = knap.getAppOnOffMap(sets2, D, home)\n",
    "    A3 = knap.getAppOnOffMap(sets3, D, home)\n",
    "    A4 = knap.getAppOnOffMap(sets4, D, home)\n",
    "    accuracy = getAccuracy(sets1, appsD, D)\n",
    "    print accuracy\n",
    "    knap.plotOnOffSingle(A1, D, home)"
   ]
  },
  {
   "cell_type": "code",
   "execution_count": 11,
   "metadata": {
    "collapsed": false
   },
   "outputs": [
    {
     "name": "stdout",
     "output_type": "stream",
     "text": [
      "0.339100346021\n"
     ]
    }
   ],
   "source": [
    "runTests()"
   ]
  },
  {
   "cell_type": "code",
   "execution_count": null,
   "metadata": {
    "collapsed": true
   },
   "outputs": [],
   "source": []
  },
  {
   "cell_type": "code",
   "execution_count": null,
   "metadata": {
    "collapsed": true
   },
   "outputs": [],
   "source": []
  }
 ],
 "metadata": {
  "kernelspec": {
   "display_name": "Python 2",
   "language": "python",
   "name": "python2"
  },
  "language_info": {
   "codemirror_mode": {
    "name": "ipython",
    "version": 2
   },
   "file_extension": ".py",
   "mimetype": "text/x-python",
   "name": "python",
   "nbconvert_exporter": "python",
   "pygments_lexer": "ipython2",
   "version": "2.7.6"
  }
 },
 "nbformat": 4,
 "nbformat_minor": 0
}
